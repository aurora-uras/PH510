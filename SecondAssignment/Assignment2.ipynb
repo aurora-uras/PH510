{
 "cells": [
  {
   "cell_type": "markdown",
   "id": "5f91343a-94e1-48d1-9dea-3fd66accc284",
   "metadata": {},
   "source": [
    "## Assignment 2\n",
    "***Aim:*** *Build a model for parallel evolution of common opertations needed in Monte Carlo simulations and implement it in simple test examples.*"
   ]
  },
  {
   "cell_type": "code",
   "execution_count": 4,
   "id": "25c179d4-937d-4d95-918b-e06727c6283c",
   "metadata": {
    "tags": []
   },
   "outputs": [
    {
     "name": "stdout",
     "output_type": "stream",
     "text": [
      "Object `mpi4py.MPI` not found.\n"
     ]
    }
   ],
   "source": [
    "import mpi4py\n",
    "\n",
    "mpi4?"
   ]
  },
  {
   "cell_type": "code",
   "execution_count": 1,
   "id": "abd072c2-837f-444b-bcfa-f17499f70075",
   "metadata": {
    "tags": []
   },
   "outputs": [
    {
     "ename": "ImportError",
     "evalue": "DLL load failed while importing MPI: The specified module could not be found.",
     "output_type": "error",
     "traceback": [
      "\u001b[1;31m---------------------------------------------------------------------------\u001b[0m",
      "\u001b[1;31mImportError\u001b[0m                               Traceback (most recent call last)",
      "Cell \u001b[1;32mIn[1], line 2\u001b[0m\n\u001b[0;32m      1\u001b[0m \u001b[38;5;28;01mimport\u001b[39;00m \u001b[38;5;21;01mnumpy\u001b[39;00m \u001b[38;5;28;01mas\u001b[39;00m \u001b[38;5;21;01mnp\u001b[39;00m\n\u001b[1;32m----> 2\u001b[0m \u001b[38;5;28;01mimport\u001b[39;00m \u001b[38;5;21;01mMonteCarlo\u001b[39;00m\u001b[38;5;21;01m.\u001b[39;00m\u001b[38;5;21;01m_MonteCarlo\u001b[39;00m \u001b[38;5;28;01mas\u001b[39;00m \u001b[38;5;21;01mMC\u001b[39;00m\n\u001b[0;32m      3\u001b[0m \u001b[38;5;28;01mimport\u001b[39;00m \u001b[38;5;21;01mmatplotlib\u001b[39;00m\u001b[38;5;21;01m.\u001b[39;00m\u001b[38;5;21;01mpyplot\u001b[39;00m \u001b[38;5;28;01mas\u001b[39;00m \u001b[38;5;21;01mplt\u001b[39;00m\n",
      "File \u001b[1;32m~\\OneDrive - University of Strathclyde\\Documents\\Documenti\\University\\Year 5\\PH510_Advanced Computational Physics\\Assignments\\Assignment2\\MonteCarlo\\_MonteCarlo.py:7\u001b[0m\n\u001b[0;32m      1\u001b[0m \u001b[38;5;66;03m# ====================================\u001b[39;00m\n\u001b[0;32m      2\u001b[0m \u001b[38;5;66;03m# Monte Carlo integration in parallel\u001b[39;00m\n\u001b[0;32m      3\u001b[0m \u001b[38;5;66;03m# ====================================\u001b[39;00m\n\u001b[0;32m      6\u001b[0m \u001b[38;5;28;01mimport\u001b[39;00m \u001b[38;5;21;01mnumpy\u001b[39;00m \u001b[38;5;28;01mas\u001b[39;00m \u001b[38;5;21;01mnp\u001b[39;00m\n\u001b[1;32m----> 7\u001b[0m \u001b[38;5;28;01mfrom\u001b[39;00m \u001b[38;5;21;01mmpi4py\u001b[39;00m \u001b[38;5;28;01mimport\u001b[39;00m MPI\n\u001b[0;32m      9\u001b[0m \u001b[38;5;28;01mclass\u001b[39;00m \u001b[38;5;21;01mMonteCarlo\u001b[39;00m(\u001b[38;5;28mobject\u001b[39m):\n\u001b[0;32m     10\u001b[0m     \u001b[38;5;28;01mdef\u001b[39;00m \u001b[38;5;21m__init__\u001b[39m(\u001b[38;5;28mself\u001b[39m, f, a, b, x, n):\n",
      "\u001b[1;31mImportError\u001b[0m: DLL load failed while importing MPI: The specified module could not be found."
     ]
    }
   ],
   "source": [
    "import numpy as np\n",
    "import MonteCarlo._MonteCarlo as MC\n",
    "import matplotlib.pyplot as plt"
   ]
  },
  {
   "cell_type": "code",
   "execution_count": null,
   "id": "15c9298f-155f-471e-aad5-89c44eaac469",
   "metadata": {
    "tags": []
   },
   "outputs": [],
   "source": [
    "σ = np.random.random()\n",
    "x0 = np.random.random()"
   ]
  },
  {
   "cell_type": "code",
   "execution_count": 5,
   "id": "3256cfef-b541-487c-b6e1-e87477fcc22e",
   "metadata": {
    "tags": []
   },
   "outputs": [],
   "source": [
    "σ = 1\n",
    "x0 = 0"
   ]
  },
  {
   "cell_type": "code",
   "execution_count": 6,
   "id": "723995a2-7420-4556-8b7b-ca402bbed4a0",
   "metadata": {
    "tags": []
   },
   "outputs": [],
   "source": [
    "n = 10000"
   ]
  },
  {
   "cell_type": "code",
   "execution_count": 7,
   "id": "ef2a7055-1fb9-4775-8a18-b440211f9a44",
   "metadata": {
    "tags": []
   },
   "outputs": [],
   "source": [
    "x = np.linspace(-1, 1, n)"
   ]
  },
  {
   "cell_type": "code",
   "execution_count": 8,
   "id": "d7c8127b-ea00-4bc2-8012-7144771a227b",
   "metadata": {},
   "outputs": [],
   "source": [
    "def function(x):\n",
    "    return 1/(σ*2*np.sqrt(np.pi)) * np.exp(-(x-x0)**2/(2*σ**2))"
   ]
  },
  {
   "cell_type": "code",
   "execution_count": 9,
   "id": "8b7f9573-fbce-4394-814b-86526e11bea2",
   "metadata": {
    "tags": []
   },
   "outputs": [
    {
     "ename": "NameError",
     "evalue": "name 'MC' is not defined",
     "output_type": "error",
     "traceback": [
      "\u001b[1;31m---------------------------------------------------------------------------\u001b[0m",
      "\u001b[1;31mNameError\u001b[0m                                 Traceback (most recent call last)",
      "Cell \u001b[1;32mIn[9], line 1\u001b[0m\n\u001b[1;32m----> 1\u001b[0m \u001b[43mMC\u001b[49m\u001b[38;5;241m.\u001b[39mmc_integration(function, \u001b[38;5;241m-\u001b[39m\u001b[38;5;241m1\u001b[39m, \u001b[38;5;241m1\u001b[39m, x, n)\n",
      "\u001b[1;31mNameError\u001b[0m: name 'MC' is not defined"
     ]
    }
   ],
   "source": [
    "MC.MonteCarlo_integration(function, -1, 1, x, n)"
   ]
  },
  {
   "cell_type": "code",
   "execution_count": 77,
   "id": "acb47b7a-0c36-428d-9ec4-ca6f5883cb51",
   "metadata": {
    "tags": []
   },
   "outputs": [
    {
     "data": {
      "text/plain": [
       "[<matplotlib.lines.Line2D at 0x1c158ee06d0>]"
      ]
     },
     "execution_count": 77,
     "metadata": {},
     "output_type": "execute_result"
    },
    {
     "data": {
      "image/png": "[encoded data removed]",
      "text/plain": [
       "<Figure size 640x480 with 1 Axes>"
      ]
     },
     "metadata": {},
     "output_type": "display_data"
    }
   ],
   "source": [
    "plt.plot(x, function(x))"
   ]
  },
  {
   "cell_type": "code",
   "execution_count": null,
   "id": "a4291be1-1320-4b62-9e49-ee49f79299ea",
   "metadata": {},
   "outputs": [],
   "source": []
  },
  {
   "cell_type": "code",
   "execution_count": null,
   "id": "af1fea1a-0ca6-4634-9df9-0cada7004202",
   "metadata": {},
   "outputs": [],
   "source": []
  }
 ],
 "metadata": {
  "kernelspec": {
   "display_name": "Python 3 (ipykernel)",
   "language": "python",
   "name": "python3"
  },
  "language_info": {
   "codemirror_mode": {
    "name": "ipython",
    "version": 3
   },
   "file_extension": ".py",
   "mimetype": "text/x-python",
   "name": "python",
   "nbconvert_exporter": "python",
   "pygments_lexer": "ipython3",
   "version": "3.10.9"
  }
 },
 "nbformat": 4,
 "nbformat_minor": 5
}
